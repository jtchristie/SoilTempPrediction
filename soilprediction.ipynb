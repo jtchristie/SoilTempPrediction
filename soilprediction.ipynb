{
 "cells": [
  {
   "cell_type": "code",
   "execution_count": 27,
   "metadata": {},
   "outputs": [],
   "source": [
    "import pandas as pd\n",
    "file_path = 'monthly.csv'\n",
    "\n",
    "weather_data = pd.read_csv(file_path)"
   ]
  },
  {
   "cell_type": "code",
   "execution_count": 28,
   "metadata": {},
   "outputs": [
    {
     "name": "stdout",
     "output_type": "stream",
     "text": [
      "      date  airt  f.airt  airtmax  f.airtmax  airtmin  f.airtmin  airtmmx  \\\n",
      "0  2001-03  30.0     NaN     39.0        NaN     22.0        NaN     54.3   \n",
      "1  2001-04  44.5     NaN     56.7        NaN     32.3        NaN     84.6   \n",
      "2  2001-05  56.9     NaN     68.3        NaN     45.9        NaN     87.6   \n",
      "3  2001-06  66.2     NaN     77.3        NaN     56.0        NaN     87.3   \n",
      "4  2001-07  65.4     NaN     77.0        NaN     54.8        NaN     90.9   \n",
      "5  2001-08  70.2     NaN     81.1        NaN     61.1        NaN     92.5   \n",
      "6  2001-09  59.9     NaN     70.8        NaN     49.8        NaN     82.8   \n",
      "7  2001-10  50.6     NaN     61.6        NaN     40.7        NaN     76.3   \n",
      "8  2001-11  42.7     NaN     52.0        NaN     33.5        NaN     66.9   \n",
      "9  2001-12  33.5     NaN     41.1        NaN     26.3        NaN     67.8   \n",
      "\n",
      "   f.airtmmx  airtmmn  ...  wspd  f.wspd  wres  f.wres  wdir  f.wdir  gspd  \\\n",
      "0        NaN      9.0  ...   4.8     1.0   1.0     1.0   328     1.0  42.7   \n",
      "1        NaN     19.9  ...   4.0     1.0   0.9     1.0   300     1.0  36.0   \n",
      "2        NaN     29.1  ...   3.5     NaN   0.2     NaN    60     NaN  29.1   \n",
      "3        NaN     38.1  ...   2.7     NaN   0.5     NaN   204     NaN  23.5   \n",
      "4        NaN     45.5  ...   2.7     NaN   0.7     NaN   238     NaN  23.7   \n",
      "5        NaN     53.1  ...   2.6     NaN   0.8     NaN   191     NaN  23.7   \n",
      "6        NaN     36.7  ...   3.0     NaN   0.6     NaN   155     NaN  25.5   \n",
      "7        NaN     25.5  ...   3.6     NaN   1.2     NaN   223     NaN  39.8   \n",
      "8        NaN     20.5  ...   3.9     NaN   1.3     NaN   227     NaN  30.9   \n",
      "9        NaN     12.7  ...   3.7     NaN   1.6     NaN   262     NaN  28.2   \n",
      "\n",
      "   f.gspd  s10t  f.s10t  \n",
      "0     1.0   NaN       M  \n",
      "1     1.0   NaN       M  \n",
      "2     NaN   NaN       M  \n",
      "3     NaN  70.1     NaN  \n",
      "4     NaN  71.3     NaN  \n",
      "5     NaN  73.3     NaN  \n",
      "6     NaN  66.1     NaN  \n",
      "7     NaN  54.5     NaN  \n",
      "8     NaN  44.6     NaN  \n",
      "9     NaN  38.5     NaN  \n",
      "\n",
      "[10 rows x 29 columns]\n"
     ]
    }
   ],
   "source": [
    "pd.set_option('display.max_rows', None)\n",
    "print(weather_data.head(10))"
   ]
  },
  {
   "cell_type": "code",
   "execution_count": 29,
   "metadata": {},
   "outputs": [
    {
     "name": "stdout",
     "output_type": "stream",
     "text": [
      "        date  airt  f.airt  airtmax  f.airtmax  airtmin  f.airtmin  airtmmx  \\\n",
      "0 2001-03-01  30.0     NaN     39.0        NaN     22.0        NaN     54.3   \n",
      "1 2001-04-01  44.5     NaN     56.7        NaN     32.3        NaN     84.6   \n",
      "2 2001-05-01  56.9     NaN     68.3        NaN     45.9        NaN     87.6   \n",
      "3 2001-06-01  66.2     NaN     77.3        NaN     56.0        NaN     87.3   \n",
      "4 2001-07-01  65.4     NaN     77.0        NaN     54.8        NaN     90.9   \n",
      "\n",
      "   f.airtmmx  airtmmn  ...  wspd  f.wspd  wres  f.wres  wdir  f.wdir  gspd  \\\n",
      "0        NaN      9.0  ...   4.8     1.0   1.0     1.0   328     1.0  42.7   \n",
      "1        NaN     19.9  ...   4.0     1.0   0.9     1.0   300     1.0  36.0   \n",
      "2        NaN     29.1  ...   3.5     NaN   0.2     NaN    60     NaN  29.1   \n",
      "3        NaN     38.1  ...   2.7     NaN   0.5     NaN   204     NaN  23.5   \n",
      "4        NaN     45.5  ...   2.7     NaN   0.7     NaN   238     NaN  23.7   \n",
      "\n",
      "   f.gspd  s10t  f.s10t  \n",
      "0     1.0   NaN       M  \n",
      "1     1.0   NaN       M  \n",
      "2     NaN   NaN       M  \n",
      "3     NaN  70.1     NaN  \n",
      "4     NaN  71.3     NaN  \n",
      "\n",
      "[5 rows x 29 columns]\n"
     ]
    }
   ],
   "source": [
    "weather_data['date'] = pd.to_datetime(weather_data['date'])\n",
    "print(weather_data.head(5))"
   ]
  },
  {
   "cell_type": "code",
   "execution_count": 30,
   "metadata": {},
   "outputs": [
    {
     "name": "stdout",
     "output_type": "stream",
     "text": [
      "          date  airt  f.airt  airtmax  f.airtmax  airtmin  f.airtmin  airtmmx  \\\n",
      "178 2016-01-01  25.6     NaN     33.6        NaN     17.6        NaN     55.2   \n",
      "179 2016-02-01  28.1     NaN     38.7        NaN     17.5        NaN     60.8   \n",
      "180 2016-03-01  38.2     NaN     49.0        NaN     29.0        NaN     75.4   \n",
      "\n",
      "     f.airtmmx  airtmmn  ...  wspd  f.wspd  wres  f.wres  wdir  f.wdir  gspd  \\\n",
      "178        NaN      0.1  ...   4.3     NaN   1.7     NaN   269     NaN  38.5   \n",
      "179        NaN    -17.7  ...   4.8     NaN   1.7     NaN   235     NaN  43.0   \n",
      "180        NaN     14.5  ...   4.3     NaN   0.9     NaN   248     NaN  34.9   \n",
      "\n",
      "     f.gspd  s10t  f.s10t  \n",
      "178     NaN  34.9     NaN  \n",
      "179     NaN  35.7     NaN  \n",
      "180     NaN  40.7     NaN  \n",
      "\n",
      "[3 rows x 29 columns]\n"
     ]
    }
   ],
   "source": [
    "filtered_weather_data = weather_data[(weather_data['date'] >= '2016-01-01') & (weather_data['date'] <= '2023-12-31')]\n",
    "print(filtered_weather_data.head(3))\n"
   ]
  },
  {
   "cell_type": "code",
   "execution_count": 31,
   "metadata": {},
   "outputs": [
    {
     "name": "stdout",
     "output_type": "stream",
     "text": [
      "          date  airt  f.airt  airtmax  f.airtmax  airtmin  f.airtmin  airtmmx  \\\n",
      "269 2023-08-01  65.8     NaN     75.0        NaN     57.6        NaN     81.0   \n",
      "270 2023-09-01  61.4     NaN     71.3        NaN     54.1        NaN     88.3   \n",
      "271 2023-10-01  53.1     NaN     62.7        NaN     45.3        NaN     83.8   \n",
      "\n",
      "     f.airtmmx  airtmmn  ...  wspd  f.wspd  wres  f.wres  wdir  f.wdir  gspd  \\\n",
      "269        NaN     49.6  ...   2.7     NaN   0.7     NaN   188     NaN  24.8   \n",
      "270        NaN     42.1  ...   2.5     NaN   0.7     NaN    59     NaN  25.7   \n",
      "271        NaN     28.6  ...   2.6     NaN   0.4     NaN   212     NaN  23.5   \n",
      "\n",
      "     f.gspd  s10t  f.s10t  \n",
      "269     NaN  70.9     NaN  \n",
      "270     NaN  67.1     NaN  \n",
      "271     NaN  58.5     NaN  \n",
      "\n",
      "[3 rows x 29 columns]\n"
     ]
    }
   ],
   "source": [
    "print(filtered_weather_data.tail(3))"
   ]
  },
  {
   "cell_type": "code",
   "execution_count": 32,
   "metadata": {},
   "outputs": [],
   "source": [
    "weather_data = filtered_weather_data"
   ]
  },
  {
   "cell_type": "markdown",
   "metadata": {},
   "source": [
    "The relevant features are as follows:\n",
    "\n",
    "Independent variables:\\\n",
    "Atmospheric temperature (airt)\\\n",
    "Atmospheric pressure (bar)\\\n",
    "Rainfall (prec)\\\n",
    "Relative humiditiy (rh)\\\n",
    "Wind speed (wspd)\\\n",
    "Global solar radiation (slrt)\\\n",
    "Sunshine duration (missing)\\\n",
    "Month (date.dt.month)\n",
    "\n",
    "Dependent variable:\n",
    "\n",
    "soil temperature (s10t)\n",
    "\n",
    "We can remove all of the other rows"
   ]
  },
  {
   "cell_type": "code",
   "execution_count": 33,
   "metadata": {},
   "outputs": [
    {
     "name": "stdout",
     "output_type": "stream",
     "text": [
      "          date  airt  prec  slrt  wspd  s10t\n",
      "178 2016-01-01  25.6  1.57   6.7   4.3  34.9\n",
      "179 2016-02-01  28.1  4.24   9.1   4.8  35.7\n",
      "180 2016-03-01  38.2  3.39  13.6   4.3  40.7\n"
     ]
    }
   ],
   "source": [
    "selected_columns = ['date','airt', 'prec','slrt','wspd','s10t']\n",
    "weather_data = weather_data[selected_columns]\n",
    "print(weather_data.head(3))"
   ]
  },
  {
   "cell_type": "code",
   "execution_count": 36,
   "metadata": {},
   "outputs": [
    {
     "name": "stderr",
     "output_type": "stream",
     "text": [
      "/var/folders/x_/r4lb4fhx2_v2lsqr7mkf3v400000gn/T/ipykernel_5104/3210123402.py:8: SettingWithCopyWarning: \n",
      "A value is trying to be set on a copy of a slice from a DataFrame.\n",
      "Try using .loc[row_indexer,col_indexer] = value instead\n",
      "\n",
      "See the caveats in the documentation: https://pandas.pydata.org/pandas-docs/stable/user_guide/indexing.html#returning-a-view-versus-a-copy\n",
      "  weather_data['month'] = weather_data['date'].dt.month\n"
     ]
    }
   ],
   "source": [
    "cold_start_date = pd.Timestamp('2001-10-01')\n",
    "cold_end_date = pd.Timestamp('2002-03-31')\n",
    "\n",
    "warm_start_date = pd.Timestamp('2001-04-01')\n",
    "warm_end_date = pd.Timestamp('2001-09-30')\n",
    "\n",
    "# Filter the data for cold months (October to March)\n",
    "weather_data['month'] = weather_data['date'].dt.month\n",
    "\n",
    "# Define cold months (October to March)\n",
    "cold_months_data = weather_data[(weather_data['month'] >= 10) | (weather_data['month'] <= 3)]\n",
    "# Filter the data for warm months (April to September)\n",
    "warm_months_data = weather_data[(weather_data['date'] >= warm_start_date) & (weather_data['date'] <= warm_end_date)]"
   ]
  },
  {
   "cell_type": "code",
   "execution_count": 39,
   "metadata": {},
   "outputs": [
    {
     "data": {
      "image/png": "[encoded data removed]",
      "text/plain": [
       "<Figure size 720x432 with 1 Axes>"
      ]
     },
     "metadata": {},
     "output_type": "display_data"
    }
   ],
   "source": [
    "import seaborn as sns\n",
    "import matplotlib.pyplot as plt\n",
    "\n",
    "sns.set(style=\"whitegrid\")\n",
    "custom_order = [10, 11, 12, 1, 2, 3]\n",
    "\n",
    "# Create a strip plot using Seaborn with custom order\n",
    "plt.figure(figsize=(10, 6))\n",
    "sns.stripplot(x='month', y='s10t', data=cold_months_data, size=8, order=custom_order, palette='husl', jitter=True)\n",
    "\n",
    "# Set plot labels and title\n",
    "plt.xlabel('Month')\n",
    "plt.ylabel('Soil Temperature')\n",
    "plt.title('Soil Temperature vs. Month (Cold Months)')\n",
    "\n",
    "# Show the plot\n",
    "plt.show()"
   ]
  }
 ],
 "metadata": {
  "interpreter": {
   "hash": "b0fa6594d8f4cbf19f97940f81e996739fb7646882a419484c72d19e05852a7e"
  },
  "kernelspec": {
   "display_name": "Python 3.9.12 64-bit",
   "language": "python",
   "name": "python3"
  },
  "language_info": {
   "codemirror_mode": {
    "name": "ipython",
    "version": 3
   },
   "file_extension": ".py",
   "mimetype": "text/x-python",
   "name": "python",
   "nbconvert_exporter": "python",
   "pygments_lexer": "ipython3",
   "version": "3.9.12"
  },
  "orig_nbformat": 4
 },
 "nbformat": 4,
 "nbformat_minor": 2
}
